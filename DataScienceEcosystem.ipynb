{
 "cells": [
  {
   "cell_type": "markdown",
   "id": "532c77c7-aff7-46ba-92fd-da272494f9f3",
   "metadata": {},
   "source": [
    "# Data Science Tools and Ecosystem"
   ]
  },
  {
   "cell_type": "markdown",
   "id": "44738522-aa6b-4d15-8b04-fcc678425aa3",
   "metadata": {},
   "source": [
    "In this notebook, Data Science Tools and Ecosystem are summarized."
   ]
  },
  {
   "cell_type": "markdown",
   "id": "1307c944-9f78-4c3a-8640-bf9b09fbb191",
   "metadata": {},
   "source": [
    "Some of the popular languages that Data Scientists use are:\n",
    "1. Python\n",
    "2. SQL\n",
    "3. R"
   ]
  },
  {
   "cell_type": "markdown",
   "id": "e95d2adc-996e-4e02-84b2-3dea56ed11a1",
   "metadata": {},
   "source": [
    "Some of the commonly used libraries used by Data Scientists include:\n",
    "1. Numby\n",
    "2. Panda\n",
    "3. Matplotlib\n",
    "4. Anaconda"
   ]
  },
  {
   "cell_type": "markdown",
   "id": "07cd0b31-1f8b-455a-af1f-e4be14fd9639",
   "metadata": {},
   "source": [
    "| Data Science Tools |\n",
    "| ------------------ |\n",
    "| 1. TensorFlow |\n",
    "| 2. MangoDB |\n",
    "| 3. Apache SparkSQL |"
   ]
  },
  {
   "cell_type": "markdown",
   "id": "2f6981bf-acab-4b6d-9b51-04b2e0e2c3e9",
   "metadata": {},
   "source": [
    "### Below are a few examples of evaluating arithmetic expressions in Python"
   ]
  },
  {
   "cell_type": "code",
   "execution_count": 148,
   "id": "7e9010d4-cf71-4ab3-9bb1-ac042e11d765",
   "metadata": {},
   "outputs": [
    {
     "data": {
      "text/plain": [
       "17"
      ]
     },
     "execution_count": 148,
     "metadata": {},
     "output_type": "execute_result"
    }
   ],
   "source": [
    "## This a simple arithmetic expression to mutiply then add integers\n",
    "(3*4)+5"
   ]
  },
  {
   "cell_type": "code",
   "execution_count": 150,
   "id": "229f7726-8ffa-4eea-8c09-3605a10ebf49",
   "metadata": {},
   "outputs": [
    {
     "data": {
      "text/plain": [
       "3.3333333333333335"
      ]
     },
     "execution_count": 150,
     "metadata": {},
     "output_type": "execute_result"
    }
   ],
   "source": [
    "## This will convert 200 minutes to hours by diving by 60\n",
    "200/60"
   ]
  },
  {
   "cell_type": "markdown",
   "id": "d390e530-98a9-4058-8071-050522a94622",
   "metadata": {},
   "source": [
    "**Objectives:**\n",
    "- SQL\n",
    "- Python\n",
    "- R"
   ]
  },
  {
   "cell_type": "markdown",
   "id": "945e280f-774f-4c17-b6bc-b503f3bc6d67",
   "metadata": {},
   "source": [
    "## Author\n",
    "\n",
    "Sergiy Tsyba"
   ]
  }
 ],
 "metadata": {
  "kernelspec": {
   "display_name": "Python 3 (ipykernel)",
   "language": "python",
   "name": "python3"
  },
  "language_info": {
   "codemirror_mode": {
    "name": "ipython",
    "version": 3
   },
   "file_extension": ".py",
   "mimetype": "text/x-python",
   "name": "python",
   "nbconvert_exporter": "python",
   "pygments_lexer": "ipython3",
   "version": "3.12.7"
  }
 },
 "nbformat": 4,
 "nbformat_minor": 5
}
